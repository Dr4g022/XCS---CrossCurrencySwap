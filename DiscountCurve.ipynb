{
 "cells": [
  {
   "cell_type": "code",
   "execution_count": 2,
   "metadata": {
    "collapsed": true
   },
   "outputs": [],
   "source": [
    "from math import log, exp\n",
    "import numpy as np\n",
    "from datetime import date"
   ]
  },
  {
   "cell_type": "code",
   "execution_count": 5,
   "outputs": [],
   "source": [
    "class DiscountCurve:\n",
    "    def __init__(self, pillars_dates, discount_factors):\n",
    "        self.today = pillars_dates[0]\n",
    "        self.log_dfs = [log(discount_factors) \\\n",
    "            for discount_factors in self.discount_factors]\n",
    "        self.pillar_days = [(pillar_dates - self.today).days \\\n",
    "                for pillar_dates in self.pillar_dates]\n",
    "    def df(self, d):\n",
    "        d_days = (d - self.today).days\n",
    "        if d_days < 0 or d_days > self.pillar_days[-1]:\n",
    "            print (\"Cannot extrapolate\")\n",
    "            return none\n",
    "        interp_log_df = \\\n",
    "            np.interp(d_days, self.pillar_days, self.log_dfs)\n",
    "        return exp(interp_log_df)"
   ],
   "metadata": {
    "collapsed": false
   }
  }
 ],
 "metadata": {
  "kernelspec": {
   "display_name": "Python 3",
   "language": "python",
   "name": "python3"
  },
  "language_info": {
   "codemirror_mode": {
    "name": "ipython",
    "version": 2
   },
   "file_extension": ".py",
   "mimetype": "text/x-python",
   "name": "python",
   "nbconvert_exporter": "python",
   "pygments_lexer": "ipython2",
   "version": "2.7.6"
  }
 },
 "nbformat": 4,
 "nbformat_minor": 0
}
